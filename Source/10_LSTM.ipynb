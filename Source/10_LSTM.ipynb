{
  "nbformat": 4,
  "nbformat_minor": 0,
  "metadata": {
    "colab": {
      "name": "10-LSTM.ipynb",
      "provenance": [],
      "collapsed_sections": [],
      "authorship_tag": "ABX9TyNizPT1UJRYR37RaR0py4a/",
      "include_colab_link": true
    },
    "kernelspec": {
      "name": "python3",
      "display_name": "Python 3"
    },
    "language_info": {
      "name": "python"
    }
  },
  "cells": [
    {
      "cell_type": "markdown",
      "metadata": {
        "id": "view-in-github",
        "colab_type": "text"
      },
      "source": [
        "<a href=\"https://colab.research.google.com/github/brody-looney/Stock-Prediction-LSTM/blob/main/10_LSTM.ipynb\" target=\"_parent\"><img src=\"https://colab.research.google.com/assets/colab-badge.svg\" alt=\"Open In Colab\"/></a>"
      ]
    },
    {
      "cell_type": "code",
      "metadata": {
        "id": "xRB3C8BgvL-n"
      },
      "source": [
        "#Author: Brody Looney\n",
        "#File: 10-LSTM.ipynb\n",
        "#Purpose: Stock Predictor LSTM for COS470 Project. This model trains on AAPL data and predicts the stock price of 10 tickers."
      ],
      "execution_count": null,
      "outputs": []
    },
    {
      "cell_type": "code",
      "metadata": {
        "id": "3ZuwT9MNT-jP"
      },
      "source": [
        "#upload .csv files here\n",
        "#AAPL_train.csv for train file\n",
        "#all test files need to be uploaded\n",
        "\n",
        "from google.colab import files\n",
        "uploaded = files.upload()"
      ],
      "execution_count": null,
      "outputs": []
    },
    {
      "cell_type": "code",
      "metadata": {
        "id": "V0pb6ywMUHRt"
      },
      "source": [
        "#Importing the necessary attributes\n",
        "import numpy as np\n",
        "import pandas as pd\n",
        "import matplotlib.pyplot as plt\n",
        "import matplotlib.dates as mdates\n",
        "import datetime as dt\n",
        "from datetime import datetime\n",
        "from sklearn.preprocessing import MinMaxScaler\n",
        "from keras import Sequential\n",
        "from keras.layers import Dense, LSTM, Dropout\n",
        "\n",
        "#Importing the AAPL_train set and then all of the test sets\n",
        "train = pd.read_csv('AAPL_train.csv')\n",
        "test_AAPL = pd.read_csv('AAPL_test.csv')\n",
        "test_AMZN = pd.read_csv('AMZN_test.csv')\n",
        "test_FB = pd.read_csv('FB_test.csv')\n",
        "test_GE = pd.read_csv('GE_test.csv')\n",
        "test_GOOGL = pd.read_csv('GOOGL_test.csv')\n",
        "test_GS = pd.read_csv('GS_test.csv')\n",
        "test_IBM = pd.read_csv('IBM_test.csv')\n",
        "test_JPM = pd.read_csv('JPM_test.csv')\n",
        "test_MSFT = pd.read_csv('MSFT_test.csv')\n",
        "test_TSLA = pd.read_csv('TSLA_test.csv')\n",
        "\n",
        "\n",
        "#Dates to be used in the graphical visualization\n",
        "\n",
        "#AAPL\n",
        "dates_AAPL = list(test_AAPL['Date'])\n",
        "dates_AAPL = [dt.datetime.strptime(date, '%m/%d/%Y').date() for date in dates_AAPL]\n",
        "\n",
        "#AMZN\n",
        "dates_AMZN = list(test_AMZN['Date'])\n",
        "dates_AMZN = [dt.datetime.strptime(date, '%m/%d/%Y').date() for date in dates_AMZN]\n",
        "\n",
        "#FB\n",
        "dates_FB = list(test_FB['Date'])\n",
        "dates_FB = [dt.datetime.strptime(date, '%m/%d/%Y').date() for date in dates_FB]\n",
        "\n",
        "#GE\n",
        "dates_GE = list(test_GE['Date'])\n",
        "dates_GE = [dt.datetime.strptime(date, '%m/%d/%Y').date() for date in dates_GE]\n",
        "\n",
        "#GOOGL\n",
        "dates_GOOGL = list(test_GOOGL['Date'])\n",
        "dates_GOOGL = [dt.datetime.strptime(date, '%m/%d/%Y').date() for date in dates_GOOGL]\n",
        "\n",
        "#GS\n",
        "dates_GS = list(test_GS['Date'])\n",
        "dates_GS = [dt.datetime.strptime(date, '%m/%d/%Y').date() for date in dates_GS]\n",
        "\n",
        "#IBM\n",
        "dates_IBM = list(test_IBM['Date'])\n",
        "dates_IBM = [dt.datetime.strptime(date, '%m/%d/%Y').date() for date in dates_IBM]\n",
        "\n",
        "#JPM\n",
        "dates_JPM = list(test_JPM['Date'])\n",
        "dates_JPM = [dt.datetime.strptime(date, '%m/%d/%Y').date() for date in dates_JPM]\n",
        "\n",
        "#MSFT\n",
        "dates_MSFT = list(test_MSFT['Date'])\n",
        "dates_MSFT = [dt.datetime.strptime(date, '%m/%d/%Y').date() for date in dates_MSFT]\n",
        "\n",
        "#TSLA\n",
        "dates_TSLA = list(test_TSLA['Date'])\n",
        "dates_TSLA = [dt.datetime.strptime(date, '%m/%d/%Y').date() for date in dates_TSLA]\n",
        "\n",
        "#Dropping the columns that won't be used in this type of predictor. This model only uses\n",
        "#EMAs and the close price\n",
        "train = train.drop(['Date', 'Volume', 'Open', 'High', 'Low'], axis = 1)\n",
        "\n",
        "#Creating a scaler which will be used to scale down the train data\n",
        "train_scaler = MinMaxScaler()\n",
        "\n",
        "scaled_train = train_scaler.fit_transform(train)\n",
        "\n",
        "#Splitting the train data up into X and y sets that will be in the necessary shape for the LSTM\n",
        "X_train = []\n",
        "y_train = []\n",
        "\n",
        "for i in range(1, train.shape[0]):\n",
        "    X_train.append(scaled_train[i-1:i])\n",
        "    y_train.append(scaled_train[i, 0])\n",
        "    \n",
        "X_train, y_train = np.array(X_train), np.array(y_train)"
      ],
      "execution_count": 5,
      "outputs": []
    },
    {
      "cell_type": "code",
      "metadata": {
        "id": "bir5U2pJUPcu"
      },
      "source": [
        "#Creating the LSTM model with multiple layers\n",
        "model = Sequential()\n",
        "\n",
        "model.add(LSTM(units = 100, return_sequences = True, input_shape = (X_train.shape[1], 4)))\n",
        "model.add(Dropout(0.25))\n",
        "\n",
        "model.add(LSTM(units = 100, return_sequences = True))\n",
        "model.add(Dropout(0.25))\n",
        "\n",
        "model.add(LSTM(units = 150))\n",
        "model.add(Dropout(0.25))\n",
        "\n",
        "model.add(Dense(units = 1))\n",
        "\n",
        "#LSTM Compilation\n",
        "model.compile(optimizer='adam', loss = 'mean_squared_error')\n",
        "model.fit(X_train, y_train, epochs=10, batch_size=10)"
      ],
      "execution_count": null,
      "outputs": []
    },
    {
      "cell_type": "code",
      "metadata": {
        "id": "xY-H0EksUWHO"
      },
      "source": [
        "#Splitting up the test sets for all 10 tickers\n",
        "#fdate is used to represent final date\n",
        "\n",
        "#AAPL\n",
        "AAPL_scaler = MinMaxScaler()\n",
        "scaled_AAPL = test_AAPL.drop(['Date', 'Volume', 'Open', 'High', 'Low'], axis = 1)\n",
        "scaled_AAPL = AAPL_scaler.fit_transform(scaled_AAPL)\n",
        "\n",
        "X_AAPL = []\n",
        "y_AAPL = []\n",
        "fdate_AAPL = []\n",
        "\n",
        "for i in range(1, scaled_AAPL.shape[0]):\n",
        "    X_AAPL.append(scaled_AAPL[i-1:i])\n",
        "    y_AAPL.append(scaled_AAPL[i, 0])\n",
        "    fdate_AAPL.append(dates_AAPL[i])\n",
        "\n",
        "X_AAPL, y_AAPL = np.array(X_AAPL), np.array(y_AAPL)\n",
        "\n",
        "#AMZN\n",
        "AMZN_scaler = MinMaxScaler()\n",
        "scaled_AMZN = test_AMZN.drop(['Date', 'Volume', 'Open', 'High', 'Low'], axis = 1)\n",
        "scaled_AMZN = AMZN_scaler.fit_transform(scaled_AMZN)\n",
        "\n",
        "X_AMZN = []\n",
        "y_AMZN = []\n",
        "fdate_AMZN = []\n",
        "\n",
        "for i in range(1, scaled_AMZN.shape[0]):\n",
        "    X_AMZN.append(scaled_AMZN[i-1:i])\n",
        "    y_AMZN.append(scaled_AMZN[i, 0])\n",
        "    fdate_AMZN.append(dates_AMZN[i])\n",
        "\n",
        "X_AMZN, y_AMZN = np.array(X_AMZN), np.array(y_AMZN)\n",
        "\n",
        "#FB\n",
        "FB_scaler = MinMaxScaler()\n",
        "scaled_FB = test_FB.drop(['Date', 'Volume', 'Open', 'High', 'Low'], axis = 1)\n",
        "scaled_FB = FB_scaler.fit_transform(scaled_FB)\n",
        "\n",
        "X_FB = []\n",
        "y_FB = []\n",
        "fdate_FB = []\n",
        "\n",
        "for i in range(1, scaled_FB.shape[0]):\n",
        "    X_FB.append(scaled_FB[i-1:i])\n",
        "    y_FB.append(scaled_FB[i, 0])\n",
        "    fdate_FB.append(dates_FB[i])\n",
        "\n",
        "X_FB, y_FB = np.array(X_FB), np.array(y_FB)\n",
        "\n",
        "#GE\n",
        "GE_scaler = MinMaxScaler()\n",
        "scaled_GE = test_GE.drop(['Date', 'Volume', 'Open', 'High', 'Low'], axis = 1)\n",
        "scaled_GE = GE_scaler.fit_transform(scaled_GE)\n",
        "\n",
        "X_GE = []\n",
        "y_GE = []\n",
        "fdate_GE = []\n",
        "\n",
        "for i in range(1, scaled_GE.shape[0]):\n",
        "    X_GE.append(scaled_GE[i-1:i])\n",
        "    y_GE.append(scaled_GE[i, 0])\n",
        "    fdate_GE.append(dates_GE[i])\n",
        "\n",
        "X_GE, y_GE = np.array(X_GE), np.array(y_GE)\n",
        "\n",
        "#GOOGL\n",
        "GOOGL_scaler = MinMaxScaler()\n",
        "scaled_GOOGL = test_GOOGL.drop(['Date', 'Volume', 'Open', 'High', 'Low'], axis = 1)\n",
        "scaled_GOOGL = GOOGL_scaler.fit_transform(scaled_GOOGL)\n",
        "\n",
        "X_GOOGL = []\n",
        "y_GOOGL = []\n",
        "fdate_GOOGL = []\n",
        "\n",
        "for i in range(1, scaled_GOOGL.shape[0]):\n",
        "    X_GOOGL.append(scaled_GOOGL[i-1:i])\n",
        "    y_GOOGL.append(scaled_GOOGL[i, 0])\n",
        "    fdate_GOOGL.append(dates_GOOGL[i])\n",
        "\n",
        "X_GOOGL, y_GOOGL = np.array(X_GOOGL), np.array(y_GOOGL)\n",
        "\n",
        "#GS\n",
        "GS_scaler = MinMaxScaler()\n",
        "scaled_GS = test_GS.drop(['Date', 'Volume', 'Open', 'High', 'Low'], axis = 1)\n",
        "scaled_GS = GS_scaler.fit_transform(scaled_GS)\n",
        "\n",
        "X_GS = []\n",
        "y_GS = []\n",
        "fdate_GS = []\n",
        "\n",
        "for i in range(1, scaled_GS.shape[0]):\n",
        "    X_GS.append(scaled_GS[i-1:i])\n",
        "    y_GS.append(scaled_GS[i, 0])\n",
        "    fdate_GS.append(dates_GS[i])\n",
        "\n",
        "X_GS, y_GS = np.array(X_GS), np.array(y_GS)\n",
        "\n",
        "#IBM\n",
        "IBM_scaler = MinMaxScaler()\n",
        "scaled_IBM = test_IBM.drop(['Date', 'Volume', 'Open', 'High', 'Low'], axis = 1)\n",
        "scaled_IBM = IBM_scaler.fit_transform(scaled_IBM)\n",
        "\n",
        "X_IBM = []\n",
        "y_IBM = []\n",
        "fdate_IBM = []\n",
        "\n",
        "for i in range(1, scaled_IBM.shape[0]):\n",
        "    X_IBM.append(scaled_IBM[i-1:i])\n",
        "    y_IBM.append(scaled_IBM[i, 0])\n",
        "    fdate_IBM.append(dates_IBM[i])\n",
        "\n",
        "X_IBM, y_IBM = np.array(X_IBM), np.array(y_IBM)\n",
        "\n",
        "#JPM\n",
        "JPM_scaler = MinMaxScaler()\n",
        "scaled_JPM = test_JPM.drop(['Date', 'Volume', 'Open', 'High', 'Low'], axis = 1)\n",
        "scaled_JPM = JPM_scaler.fit_transform(scaled_JPM)\n",
        "\n",
        "X_JPM = []\n",
        "y_JPM = []\n",
        "fdate_JPM = []\n",
        "\n",
        "for i in range(1, scaled_JPM.shape[0]):\n",
        "    X_JPM.append(scaled_JPM[i-1:i])\n",
        "    y_JPM.append(scaled_JPM[i, 0])\n",
        "    fdate_JPM.append(dates_JPM[i])\n",
        "\n",
        "X_JPM, y_JPM = np.array(X_JPM), np.array(y_JPM)\n",
        "\n",
        "#MSFT\n",
        "MSFT_scaler = MinMaxScaler()\n",
        "scaled_MSFT = test_MSFT.drop(['Date', 'Volume', 'Open', 'High', 'Low'], axis = 1)\n",
        "scaled_MSFT = MSFT_scaler.fit_transform(scaled_MSFT)\n",
        "\n",
        "X_MSFT = []\n",
        "y_MSFT = []\n",
        "fdate_MSFT = []\n",
        "\n",
        "for i in range(1, scaled_MSFT.shape[0]):\n",
        "    X_MSFT.append(scaled_MSFT[i-1:i])\n",
        "    y_MSFT.append(scaled_MSFT[i, 0])\n",
        "    fdate_MSFT.append(dates_MSFT[i])\n",
        "\n",
        "X_MSFT, y_MSFT = np.array(X_MSFT), np.array(y_MSFT)\n",
        "\n",
        "#TSLA\n",
        "TSLA_scaler = MinMaxScaler()\n",
        "scaled_TSLA = test_TSLA.drop(['Date', 'Volume', 'Open', 'High', 'Low'], axis = 1)\n",
        "scaled_TSLA = TSLA_scaler.fit_transform(scaled_TSLA)\n",
        "\n",
        "X_TSLA= []\n",
        "y_TSLA = []\n",
        "fdate_TSLA = []\n",
        "\n",
        "for i in range(1, scaled_TSLA.shape[0]):\n",
        "    X_TSLA.append(scaled_TSLA[i-1:i])\n",
        "    y_TSLA.append(scaled_TSLA[i, 0])\n",
        "    fdate_TSLA.append(dates_TSLA[i])\n",
        "\n",
        "X_TSLA, y_TSLA = np.array(X_TSLA), np.array(y_TSLA)"
      ],
      "execution_count": 8,
      "outputs": []
    },
    {
      "cell_type": "code",
      "metadata": {
        "id": "2k3U018eUaF4"
      },
      "source": [
        "#Creating a value of the inverse of the scale so that it can be used to readjust the real price and prediction.\n",
        "scale_AAPL = 1/0.00311614\n",
        "scale_AMZN = 1/0.00053162\n",
        "scale_FB = 1/0.00816793\n",
        "scale_GE = 1/0.04393673\n",
        "scale_GOOGL = 1/0.0017236\n",
        "scale_GS = 1/0.00783822\n",
        "scale_IBM = 1/0.01586043\n",
        "scale_JPM = 1/0.01267267\n",
        "scale_MSFT = 1/0.00680921\n",
        "scale_TSLA = 1/0.00069983\n",
        "\n",
        "#Creating a prediction on the test data and scaling it \n",
        "\n",
        "#AAPL\n",
        "prediction_AAPL = model.predict(X_AAPL)\n",
        "prediction_AAPL = prediction_AAPL * scale_AAPL + 150\n",
        "real_AAPL = test_AAPL.drop(['Date', 'Volume', 'EMA10', 'EMA50', 'EMA200', 'Open', 'High', 'Low'], axis = 1)\n",
        "\n",
        "#AMZN\n",
        "prediction_AMZN = model.predict(X_AMZN)\n",
        "prediction_AMZN = prediction_AMZN * scale_AMZN + 1400\n",
        "real_AMZN = test_AMZN.drop(['Date', 'Volume', 'EMA10', 'EMA50', 'EMA200', 'Open', 'High', 'Low'], axis = 1)\n",
        "\n",
        "#FB\n",
        "prediction_FB = model.predict(X_FB)\n",
        "prediction_FB = prediction_FB * scale_FB + 148\n",
        "real_FB = test_FB.drop(['Date', 'Volume', 'EMA10', 'EMA50', 'EMA200', 'Open', 'High', 'Low'], axis = 1)\n",
        "\n",
        "#GE\n",
        "prediction_GE = model.predict(X_GE)\n",
        "prediction_GE = prediction_GE * scale_GE + 6\n",
        "real_GE = test_GE.drop(['Date', 'Volume', 'EMA10', 'EMA50', 'EMA200', 'Open', 'High', 'Low'], axis = 1)\n",
        "\n",
        "#GOOGL\n",
        "prediction_GOOGL = model.predict(X_GOOGL)\n",
        "prediction_GOOGL = prediction_GOOGL * scale_GOOGL + 1000\n",
        "real_GOOGL = test_GOOGL.drop(['Date', 'Volume', 'EMA10', 'EMA50', 'EMA200', 'Open', 'High', 'Low'], axis = 1)\n",
        "\n",
        "#GS\n",
        "prediction_GS = model.predict(X_GS)\n",
        "prediction_GS = prediction_GS * scale_GS + 135\n",
        "real_GS = test_GS.drop(['Date', 'Volume', 'EMA10', 'EMA50', 'EMA200', 'Open', 'High', 'Low'], axis = 1)\n",
        "\n",
        "#IBM\n",
        "prediction_IBM = model.predict(X_IBM)\n",
        "prediction_IBM = prediction_IBM * scale_IBM + 92\n",
        "real_IBM = test_IBM.drop(['Date', 'Volume', 'EMA10', 'EMA50', 'EMA200', 'Open', 'High', 'Low'], axis = 1)\n",
        "\n",
        "#JPM\n",
        "prediction_JPM = model.predict(X_JPM)\n",
        "prediction_JPM = prediction_JPM * scale_JPM + 60\n",
        "real_JPM = test_JPM.drop(['Date', 'Volume', 'EMA10', 'EMA50', 'EMA200', 'Open', 'High', 'Low'], axis = 1)\n",
        "\n",
        "#MSFT\n",
        "prediction_MSFT = model.predict(X_MSFT)\n",
        "prediction_MSFT = prediction_MSFT * scale_MSFT + 70\n",
        "real_MSFT = test_MSFT.drop(['Date', 'Volume', 'EMA10', 'EMA50', 'EMA200', 'Open', 'High', 'Low'], axis = 1)\n",
        "\n",
        "#TSLA\n",
        "prediction_TSLA = model.predict(X_TSLA)\n",
        "prediction_TSLA = prediction_TSLA * scale_TSLA + 230\n",
        "real_TSLA = test_TSLA.drop(['Date', 'Volume', 'EMA10', 'EMA50', 'EMA200', 'Open', 'High', 'Low'], axis = 1)"
      ],
      "execution_count": 28,
      "outputs": []
    },
    {
      "cell_type": "code",
      "metadata": {
        "id": "-9mfcW7Nc410"
      },
      "source": [
        "#AAPL\n",
        "#Printing the Real Price of AAPL using real_AAPL\n",
        "plt.figure(figsize=(14,5))\n",
        "plt.plot(dates_AAPL, real_AAPL, color = 'red', label = 'Real AAPL Stock Price')\n",
        "plt.gcf().autofmt_xdate()\n",
        "plt.title('AAPL Stock Price')\n",
        "plt.xlabel('Date')\n",
        "plt.ylabel('AAPL Stock Price')\n",
        "\n",
        "#Printing the prediction of the price of AAPL by using values of prediction_AAPL\n",
        "plt.plot(fdate_AAPL, prediction_AAPL, color = 'blue', label = 'Predicted AAPL Stock Price')\n",
        "plt.gcf().autofmt_xdate()\n",
        "plt.title('AAPL Stock Price Prediction')\n",
        "plt.xlabel('Date')\n",
        "plt.ylabel('AAPL Stock Price')\n",
        "plt.legend()\n",
        "plt.show()\n",
        "\n",
        "#AMZN\n",
        "#Printing the Real Price of AMZN using real_AMZN\n",
        "plt.figure(figsize=(14,5))\n",
        "plt.plot(dates_AMZN, real_AMZN, color = 'red', label = 'Real AMZN Stock Price')\n",
        "plt.gcf().autofmt_xdate()\n",
        "plt.title('AMZN Stock Price')\n",
        "plt.xlabel('Date')\n",
        "plt.ylabel('AMZN Stock Price')\n",
        "\n",
        "#Printing the prediction of the price of AMZN by using values of prediction_AMZN\n",
        "plt.plot(fdate_AMZN, prediction_AMZN, color = 'blue', label = 'Predicted AMZN Stock Price')\n",
        "plt.gcf().autofmt_xdate()\n",
        "plt.title('AMZN Stock Price Prediction')\n",
        "plt.xlabel('Date')\n",
        "plt.ylabel('AMZN Stock Price')\n",
        "plt.legend()\n",
        "plt.show()\n",
        "\n",
        "#FB\n",
        "#Printing the Real Price of FB using real_FB\n",
        "plt.figure(figsize=(14,5))\n",
        "plt.plot(dates_FB, real_FB, color = 'red', label = 'Real FB Stock Price')\n",
        "plt.gcf().autofmt_xdate()\n",
        "plt.title('FB Stock Price')\n",
        "plt.xlabel('Date')\n",
        "plt.ylabel('FB Stock Price')\n",
        "\n",
        "#Printing the prediction of the price of FB by using values of prediction_FB\n",
        "plt.plot(fdate_FB, prediction_FB, color = 'blue', label = 'Predicted FB Stock Price')\n",
        "plt.gcf().autofmt_xdate()\n",
        "plt.title('FB Stock Price Prediction')\n",
        "plt.xlabel('Date')\n",
        "plt.ylabel('FB Stock Price')\n",
        "plt.legend()\n",
        "plt.show()\n",
        "\n",
        "#GE\n",
        "#Printing the Real Price of GE using real_GE\n",
        "plt.figure(figsize=(14,5))\n",
        "plt.plot(dates_GE, real_GE, color = 'red', label = 'Real GE Stock Price')\n",
        "plt.gcf().autofmt_xdate()\n",
        "plt.title('GE Stock Price')\n",
        "plt.xlabel('Date')\n",
        "plt.ylabel('GE Stock Price')\n",
        "\n",
        "#Printing the prediction of the price of GE by using values of prediction_GE\n",
        "plt.plot(fdate_GE, prediction_GE, color = 'blue', label = 'Predicted GE Stock Price')\n",
        "plt.gcf().autofmt_xdate()\n",
        "plt.title('GE Stock Price Prediction')\n",
        "plt.xlabel('Date')\n",
        "plt.ylabel('GE Stock Price')\n",
        "plt.legend()\n",
        "plt.show()\n",
        "\n",
        "#GOOGL\n",
        "#Printing the Real Price of GOOGL using real_GOOGL\n",
        "plt.figure(figsize=(14,5))\n",
        "plt.plot(dates_GOOGL, real_GOOGL, color = 'red', label = 'Real GOOGL Stock Price')\n",
        "plt.gcf().autofmt_xdate()\n",
        "plt.title('GOOGL Stock Price')\n",
        "plt.xlabel('Date')\n",
        "plt.ylabel('GOOGL Stock Price')\n",
        "\n",
        "#Printing the prediction of the price of GOOGL by using values of prediction_GE\n",
        "plt.plot(fdate_GOOGL, prediction_GOOGL, color = 'blue', label = 'Predicted GOOGL Stock Price')\n",
        "plt.gcf().autofmt_xdate()\n",
        "plt.title('GOOGL Stock Price Prediction')\n",
        "plt.xlabel('Date')\n",
        "plt.ylabel('GOOGL Stock Price')\n",
        "plt.legend()\n",
        "plt.show()\n",
        "\n",
        "#GS\n",
        "#Printing the Real Price of GS using real_GS\n",
        "plt.figure(figsize=(14,5))\n",
        "plt.plot(dates_GS, real_GS, color = 'red', label = 'Real GS Stock Price')\n",
        "plt.gcf().autofmt_xdate()\n",
        "plt.title('GS Stock Price')\n",
        "plt.xlabel('Date')\n",
        "plt.ylabel('GS Stock Price')\n",
        "\n",
        "#Printing the prediction of the price of GS by using values of prediction_GS\n",
        "plt.plot(fdate_GS, prediction_GS, color = 'blue', label = 'Predicted GS Stock Price')\n",
        "plt.gcf().autofmt_xdate()\n",
        "plt.title('GS Stock Price Prediction')\n",
        "plt.xlabel('Date')\n",
        "plt.ylabel('GS Stock Price')\n",
        "plt.legend()\n",
        "plt.show()\n",
        "\n",
        "#IBM\n",
        "#Printing the Real Price of IBM using real_IBM\n",
        "plt.figure(figsize=(14,5))\n",
        "plt.plot(dates_IBM, real_IBM, color = 'red', label = 'Real IBM Stock Price')\n",
        "plt.gcf().autofmt_xdate()\n",
        "plt.title('IBM Stock Price')\n",
        "plt.xlabel('Date')\n",
        "plt.ylabel('IBM Stock Price')\n",
        "\n",
        "#Printing the prediction of the price of IBM by using values of prediction_IBM\n",
        "plt.plot(fdate_IBM, prediction_IBM, color = 'blue', label = 'Predicted IBM Stock Price')\n",
        "plt.gcf().autofmt_xdate()\n",
        "plt.title('IBM Stock Price Prediction')\n",
        "plt.xlabel('Date')\n",
        "plt.ylabel('IBM Stock Price')\n",
        "plt.legend()\n",
        "plt.show()\n",
        "\n",
        "#JPM\n",
        "#Printing the Real Price of JPM using real_JPM\n",
        "plt.figure(figsize=(14,5))\n",
        "plt.plot(dates_JPM, real_JPM, color = 'red', label = 'Real JPM Stock Price')\n",
        "plt.gcf().autofmt_xdate()\n",
        "plt.title('JPM Stock Price')\n",
        "plt.xlabel('Date')\n",
        "plt.ylabel('JPM Stock Price')\n",
        "\n",
        "#Printing the prediction of the price of JPM by using values of prediction_JPM\n",
        "plt.plot(fdate_JPM, prediction_JPM, color = 'blue', label = 'Predicted JPM Stock Price')\n",
        "plt.gcf().autofmt_xdate()\n",
        "plt.title('JPM Stock Price Prediction')\n",
        "plt.xlabel('Date')\n",
        "plt.ylabel('JPM Stock Price')\n",
        "plt.legend()\n",
        "plt.show()\n",
        "\n",
        "#MSFT\n",
        "#Printing the Real Price of MSFT using real_MSFT\n",
        "plt.figure(figsize=(14,5))\n",
        "plt.plot(dates_MSFT, real_MSFT, color = 'red', label = 'Real MSFT Stock Price')\n",
        "plt.gcf().autofmt_xdate()\n",
        "plt.title('MSFT Stock Price')\n",
        "plt.xlabel('Date')\n",
        "plt.ylabel('MSFT Stock Price')\n",
        "\n",
        "#Printing the prediction of the price of MSFT by using values of prediction_MSFT\n",
        "plt.plot(fdate_MSFT, prediction_MSFT, color = 'blue', label = 'Predicted MSFT Stock Price')\n",
        "plt.gcf().autofmt_xdate()\n",
        "plt.title('MSFT Stock Price Prediction')\n",
        "plt.xlabel('Date')\n",
        "plt.ylabel('MSFT Stock Price')\n",
        "plt.legend()\n",
        "plt.show()\n",
        "\n",
        "#TSLA\n",
        "#Printing the Real Price of TSLA using real_TSLA\n",
        "plt.figure(figsize=(14,5))\n",
        "plt.plot(dates_TSLA, real_TSLA, color = 'red', label = 'Real TSLA Stock Price')\n",
        "plt.gcf().autofmt_xdate()\n",
        "plt.title('TSLA Stock Price')\n",
        "plt.xlabel('Date')\n",
        "plt.ylabel('TSLA Stock Price')\n",
        "\n",
        "#Printing the prediction of the price of TSLA by using values of prediction_TSLA\n",
        "plt.plot(fdate_TSLA, prediction_TSLA, color = 'blue', label = 'Predicted TSLA Stock Price')\n",
        "plt.gcf().autofmt_xdate()\n",
        "plt.title('TSLA Stock Price Prediction')\n",
        "plt.xlabel('Date')\n",
        "plt.ylabel('TSLA Stock Price')\n",
        "plt.legend()\n",
        "plt.show()"
      ],
      "execution_count": null,
      "outputs": []
    },
    {
      "cell_type": "code",
      "metadata": {
        "colab": {
          "base_uri": "https://localhost:8080/"
        },
        "id": "CGvjWj3Sg-FO",
        "outputId": "cf1add1d-d551-48ac-c4af-47838b3ed375"
      },
      "source": [
        "AAPL_scaler.scale_"
      ],
      "execution_count": 11,
      "outputs": [
        {
          "output_type": "execute_result",
          "data": {
            "text/plain": [
              "array([0.00329924, 0.00329924, 0.00329924, 0.00311614])"
            ]
          },
          "metadata": {
            "tags": []
          },
          "execution_count": 11
        }
      ]
    },
    {
      "cell_type": "code",
      "metadata": {
        "colab": {
          "base_uri": "https://localhost:8080/"
        },
        "id": "Tud1OQNDjxpq",
        "outputId": "2cea8262-d9bc-4bf9-dbc9-6f5b0e2ab25d"
      },
      "source": [
        "AMZN_scaler.scale_"
      ],
      "execution_count": 12,
      "outputs": [
        {
          "output_type": "execute_result",
          "data": {
            "text/plain": [
              "array([0.00057555, 0.00057555, 0.00057555, 0.00053162])"
            ]
          },
          "metadata": {
            "tags": []
          },
          "execution_count": 12
        }
      ]
    },
    {
      "cell_type": "code",
      "metadata": {
        "colab": {
          "base_uri": "https://localhost:8080/"
        },
        "id": "WYlThWGcjzcl",
        "outputId": "39aa126e-bd9b-43d2-b806-4a605504def2"
      },
      "source": [
        "FB_scaler.scale_"
      ],
      "execution_count": 14,
      "outputs": [
        {
          "output_type": "execute_result",
          "data": {
            "text/plain": [
              "array([0.00918695, 0.00918695, 0.00918695, 0.00816793])"
            ]
          },
          "metadata": {
            "tags": []
          },
          "execution_count": 14
        }
      ]
    },
    {
      "cell_type": "code",
      "metadata": {
        "colab": {
          "base_uri": "https://localhost:8080/"
        },
        "id": "V9sn2X46j1T6",
        "outputId": "7081232f-bb4b-4953-e995-4c8cee740247"
      },
      "source": [
        "GE_scaler.scale_"
      ],
      "execution_count": 15,
      "outputs": [
        {
          "output_type": "execute_result",
          "data": {
            "text/plain": [
              "array([0.04480287, 0.04480287, 0.04480287, 0.04393673])"
            ]
          },
          "metadata": {
            "tags": []
          },
          "execution_count": 15
        }
      ]
    },
    {
      "cell_type": "code",
      "metadata": {
        "colab": {
          "base_uri": "https://localhost:8080/"
        },
        "id": "nOT1ArKCj4_F",
        "outputId": "73189d23-26cf-407e-985b-a1006ad4998f"
      },
      "source": [
        "GOOGL_scaler.scale_"
      ],
      "execution_count": 16,
      "outputs": [
        {
          "output_type": "execute_result",
          "data": {
            "text/plain": [
              "array([0.00185673, 0.00185673, 0.00185673, 0.0017236 ])"
            ]
          },
          "metadata": {
            "tags": []
          },
          "execution_count": 16
        }
      ]
    },
    {
      "cell_type": "code",
      "metadata": {
        "colab": {
          "base_uri": "https://localhost:8080/"
        },
        "id": "yzm3KeeZj6II",
        "outputId": "23874d1e-a255-4d8c-c84f-694380b01f54"
      },
      "source": [
        "GS_scaler.scale_"
      ],
      "execution_count": 17,
      "outputs": [
        {
          "output_type": "execute_result",
          "data": {
            "text/plain": [
              "array([0.0087581 , 0.0087581 , 0.0087581 , 0.00783822])"
            ]
          },
          "metadata": {
            "tags": []
          },
          "execution_count": 17
        }
      ]
    },
    {
      "cell_type": "code",
      "metadata": {
        "colab": {
          "base_uri": "https://localhost:8080/"
        },
        "id": "T3sMPMiHj9TA",
        "outputId": "b692c163-d507-4519-bbf9-8a6f09d62bcc"
      },
      "source": [
        "IBM_scaler.scale_"
      ],
      "execution_count": 18,
      "outputs": [
        {
          "output_type": "execute_result",
          "data": {
            "text/plain": [
              "array([0.0172503 , 0.0172503 , 0.0172503 , 0.01586043])"
            ]
          },
          "metadata": {
            "tags": []
          },
          "execution_count": 18
        }
      ]
    },
    {
      "cell_type": "code",
      "metadata": {
        "colab": {
          "base_uri": "https://localhost:8080/"
        },
        "id": "ZDyL7vwpj-qi",
        "outputId": "ef80e842-cda8-489d-bf9e-382d4033d9ce"
      },
      "source": [
        "JPM_scaler.scale_"
      ],
      "execution_count": 19,
      "outputs": [
        {
          "output_type": "execute_result",
          "data": {
            "text/plain": [
              "array([0.01296008, 0.01296008, 0.01296008, 0.01267267])"
            ]
          },
          "metadata": {
            "tags": []
          },
          "execution_count": 19
        }
      ]
    },
    {
      "cell_type": "code",
      "metadata": {
        "colab": {
          "base_uri": "https://localhost:8080/"
        },
        "id": "UYzofX7gkAeT",
        "outputId": "667a6249-7e21-48bc-bfd7-4d887b7e5a54"
      },
      "source": [
        "MSFT_scaler.scale_"
      ],
      "execution_count": 20,
      "outputs": [
        {
          "output_type": "execute_result",
          "data": {
            "text/plain": [
              "array([0.00698959, 0.00698959, 0.00698959, 0.00680921])"
            ]
          },
          "metadata": {
            "tags": []
          },
          "execution_count": 20
        }
      ]
    },
    {
      "cell_type": "code",
      "metadata": {
        "colab": {
          "base_uri": "https://localhost:8080/"
        },
        "id": "hk0y6ab_kCZ0",
        "outputId": "414567a3-b8fc-45aa-9c1f-8ab0b4b8a731"
      },
      "source": [
        "TSLA_scaler.scale_"
      ],
      "execution_count": 21,
      "outputs": [
        {
          "output_type": "execute_result",
          "data": {
            "text/plain": [
              "array([0.00074095, 0.00074095, 0.00074095, 0.00069983])"
            ]
          },
          "metadata": {
            "tags": []
          },
          "execution_count": 21
        }
      ]
    }
  ]
}
