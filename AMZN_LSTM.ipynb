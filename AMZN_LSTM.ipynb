{
  "nbformat": 4,
  "nbformat_minor": 0,
  "metadata": {
    "colab": {
      "name": "AMZN-LSTM.ipynb",
      "provenance": [],
      "collapsed_sections": [],
      "authorship_tag": "ABX9TyOvAHPalOGG0ktLdIk67h8z",
      "include_colab_link": true
    },
    "kernelspec": {
      "name": "python3",
      "display_name": "Python 3"
    },
    "language_info": {
      "name": "python"
    }
  },
  "cells": [
    {
      "cell_type": "markdown",
      "metadata": {
        "id": "view-in-github",
        "colab_type": "text"
      },
      "source": [
        "<a href=\"https://colab.research.google.com/github/brody-looney/Stock-Prediction-LSTM/blob/main/AMZN_LSTM.ipynb\" target=\"_parent\"><img src=\"https://colab.research.google.com/assets/colab-badge.svg\" alt=\"Open In Colab\"/></a>"
      ]
    },
    {
      "cell_type": "code",
      "metadata": {
        "id": "-q0kyX9izCgv"
      },
      "source": [
        "#Author: Brody Looney\n",
        "#File: AMZN-LSTM.ipynb\n",
        "#Purpose: Stock Predictor LSTM for COS470 Project. This model trains and tests on AMZN data."
      ],
      "execution_count": null,
      "outputs": []
    },
    {
      "cell_type": "code",
      "metadata": {
        "id": "lewRiR-4m_Or"
      },
      "source": [
        "#upload AMZN_train.csv and AMZN_test.csv files here\n",
        "from google.colab import files\n",
        "uploaded = files.upload()"
      ],
      "execution_count": null,
      "outputs": []
    },
    {
      "cell_type": "code",
      "metadata": {
        "id": "XmqAZGomnBUe"
      },
      "source": [
        "#Importing the necessary attributes\n",
        "import numpy as np\n",
        "import pandas as pd\n",
        "import matplotlib.pyplot as plt\n",
        "import matplotlib.dates as mdates\n",
        "import datetime as dt\n",
        "from datetime import datetime\n",
        "from sklearn.preprocessing import MinMaxScaler\n",
        "from keras import Sequential\n",
        "from keras.layers import Dense, LSTM, Dropout\n",
        "\n",
        "#Importing pre-split train and test set (80/20)\n",
        "train = pd.read_csv('AMZN_train.csv')\n",
        "test = pd.read_csv('AMZN_test.csv')\n",
        "\n",
        "#Dates to be used in the graphical visualization\n",
        "dates = list(test['Date'])\n",
        "dates = [dt.datetime.strptime(date, '%m/%d/%Y').date() for date in dates]\n",
        "\n",
        "#Dropping the columns that won't be used in this type of predictor. This model only uses\n",
        "#EMAs and the close price\n",
        "train = train.drop(['Date', 'Volume', 'Open', 'High', 'Low'], axis = 1)\n",
        "\n",
        "#Creating a scaler which will be used to scale down the train data\n",
        "train_scaler = MinMaxScaler()\n",
        "\n",
        "scaled_train = train_scaler.fit_transform(train)\n",
        "\n",
        "#Splitting the data up into X and y sets that will be in the necessary shape for the LSTM \n",
        "X_train = []\n",
        "y_train = []\n",
        "\n",
        "for i in range(1, train.shape[0]):\n",
        "    X_train.append(scaled_train[i-1:i])\n",
        "    y_train.append(scaled_train[i, 0])\n",
        "    \n",
        "X_train, y_train = np.array(X_train), np.array(y_train)\n",
        "\n",
        "#Creating the LSTM model with multiple layers\n",
        "model = Sequential()\n",
        "\n",
        "model.add(LSTM(units = 100, return_sequences = True, input_shape = (X_train.shape[1], 4)))\n",
        "model.add(Dropout(0.25))\n",
        "\n",
        "model.add(LSTM(units = 120, return_sequences = True))\n",
        "model.add(Dropout(0.25))\n",
        "\n",
        "model.add(LSTM(units = 140))\n",
        "model.add(Dropout(0.25))\n",
        "\n",
        "model.add(Dense(units = 1))\n",
        "\n",
        "#LSTM Compilation\n",
        "model.compile(optimizer='adam', loss = 'mean_squared_error')\n",
        "model.fit(X_train, y_train, epochs=10, batch_size=20)\n",
        "\n",
        "test_scaler = MinMaxScaler()\n",
        "scaled_test = test.drop(['Date', 'Volume', 'Open', 'High', 'Low'], axis = 1)\n",
        "scaled_test = test_scaler.fit_transform(scaled_test)\n",
        "\n",
        "#Splitting up the test set\n",
        "X_test = []\n",
        "y_test = []\n",
        "dates_pred = []\n",
        "\n",
        "for i in range(1, scaled_test.shape[0]):\n",
        "    X_test.append(scaled_test[i-1:i])\n",
        "    y_test.append(scaled_test[i, 0])\n",
        "    dates_pred.append(dates[i])\n",
        "\n",
        "X_test, y_test = np.array(X_test), np.array(y_test)\n",
        "\n",
        "#Creating a value of the inverse of the scale so that it can be used to readjust the real price and prediction.\n",
        "scale = 1/0.00053162\n",
        "\n",
        "#Creating a prediction on the test data and scaling it \n",
        "prediction = model.predict(X_test)\n",
        "prediction = prediction * scale + 1350\n",
        "\n",
        "real = test.drop(['Date', 'Volume', 'EMA10', 'EMA50', 'EMA200', 'Open', 'High', 'Low'], axis = 1)\n",
        "\n",
        "#Printing the Real Price of AMZN using real\n",
        "plt.figure(figsize=(14,5))\n",
        "plt.plot(dates, real, color = 'red', label = 'Real AMZN Stock Price')\n",
        "plt.gcf().autofmt_xdate()\n",
        "plt.title('AMZN Stock Price')\n",
        "plt.xlabel('Date')\n",
        "plt.ylabel('AMZN Stock Price')\n",
        "\n",
        "#Printing the Predicted Price of AMZN using prediction\n",
        "plt.plot(dates_pred, prediction, color = 'blue', label = 'Predicted AMZN Stock Price')\n",
        "plt.gcf().autofmt_xdate()\n",
        "plt.title('AMZN Stock Price Prediction')\n",
        "plt.xlabel('Date')\n",
        "plt.ylabel('AMZN Stock Price')\n",
        "\n",
        "plt.legend()\n",
        "plt.show()"
      ],
      "execution_count": null,
      "outputs": []
    },
    {
      "cell_type": "code",
      "metadata": {
        "colab": {
          "base_uri": "https://localhost:8080/"
        },
        "id": "KzEzHsxgnQFm",
        "outputId": "cef3f4f4-8527-49e6-d3c9-a19d7e0e77a6"
      },
      "source": [
        "train_scaler.scale_"
      ],
      "execution_count": null,
      "outputs": [
        {
          "output_type": "execute_result",
          "data": {
            "text/plain": [
              "array([0.00057507, 0.00057507, 0.00057507, 0.00056758])"
            ]
          },
          "metadata": {
            "tags": []
          },
          "execution_count": 16
        }
      ]
    },
    {
      "cell_type": "code",
      "metadata": {
        "id": "zmAH7r-LnQob",
        "colab": {
          "base_uri": "https://localhost:8080/"
        },
        "outputId": "8d67d9aa-a865-4983-ae03-a500a408c154"
      },
      "source": [
        "test_scaler.scale_"
      ],
      "execution_count": null,
      "outputs": [
        {
          "output_type": "execute_result",
          "data": {
            "text/plain": [
              "array([0.00057555, 0.00057555, 0.00057555, 0.00053162])"
            ]
          },
          "metadata": {
            "tags": []
          },
          "execution_count": 17
        }
      ]
    }
  ]
}